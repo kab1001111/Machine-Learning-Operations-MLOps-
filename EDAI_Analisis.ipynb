{
 "cells": [
  {
   "attachments": {},
   "cell_type": "markdown",
   "metadata": {},
   "source": [
    "ANALISIS EDA DE LAS PLATAFORMAS DE STREAMING: AMAZON, HULU, DISNEY Y NETFLIX"
   ]
  },
  {
   "cell_type": "code",
   "execution_count": 1,
   "metadata": {},
   "outputs": [],
   "source": [
    "#importamos las librerias necesarias para el analisis EDA\n",
    "import pandas as pd\n",
    "import numpy as np\n",
    "\n"
   ]
  },
  {
   "cell_type": "code",
   "execution_count": 2,
   "metadata": {},
   "outputs": [],
   "source": [
    "#Cargamos nuestros datasets para comenzar el analsis\n",
    "df_plataforms = pd.read_csv('C:/Users/berna/OneDrive/Desktop/MLops_service/MLOpsReviews/plataforms_final.csv')"
   ]
  },
  {
   "cell_type": "code",
   "execution_count": 5,
   "metadata": {},
   "outputs": [
    {
     "data": {
      "text/html": [
       "<div>\n",
       "<style scoped>\n",
       "    .dataframe tbody tr th:only-of-type {\n",
       "        vertical-align: middle;\n",
       "    }\n",
       "\n",
       "    .dataframe tbody tr th {\n",
       "        vertical-align: top;\n",
       "    }\n",
       "\n",
       "    .dataframe thead th {\n",
       "        text-align: right;\n",
       "    }\n",
       "</style>\n",
       "<table border=\"1\" class=\"dataframe\">\n",
       "  <thead>\n",
       "    <tr style=\"text-align: right;\">\n",
       "      <th></th>\n",
       "      <th>Unnamed: 0</th>\n",
       "      <th>plataform</th>\n",
       "      <th>type</th>\n",
       "      <th>title</th>\n",
       "      <th>director</th>\n",
       "      <th>cast</th>\n",
       "      <th>country</th>\n",
       "      <th>date_added</th>\n",
       "      <th>year</th>\n",
       "      <th>rating</th>\n",
       "      <th>duration</th>\n",
       "      <th>listed_in</th>\n",
       "      <th>description</th>\n",
       "      <th>duration_int</th>\n",
       "      <th>duration_type</th>\n",
       "      <th>userId</th>\n",
       "      <th>scored</th>\n",
       "    </tr>\n",
       "  </thead>\n",
       "  <tbody>\n",
       "    <tr>\n",
       "      <th>0</th>\n",
       "      <td>0</td>\n",
       "      <td>as1</td>\n",
       "      <td>movie</td>\n",
       "      <td>the grand seduction</td>\n",
       "      <td>don mckellar</td>\n",
       "      <td>brendan gleeson, taylor kitsch, gordon pinsent</td>\n",
       "      <td>canada</td>\n",
       "      <td>2021-03-30</td>\n",
       "      <td>2014</td>\n",
       "      <td>g</td>\n",
       "      <td>113 min</td>\n",
       "      <td>comedy, drama</td>\n",
       "      <td>a small fishing village must procure a local d...</td>\n",
       "      <td>113.0</td>\n",
       "      <td>min</td>\n",
       "      <td>99178.624</td>\n",
       "      <td>3.467</td>\n",
       "    </tr>\n",
       "    <tr>\n",
       "      <th>1</th>\n",
       "      <td>1</td>\n",
       "      <td>as2</td>\n",
       "      <td>movie</td>\n",
       "      <td>take care good night</td>\n",
       "      <td>girish joshi</td>\n",
       "      <td>mahesh manjrekar, abhay mahajan, sachin khedekar</td>\n",
       "      <td>india</td>\n",
       "      <td>2021-03-30</td>\n",
       "      <td>2018</td>\n",
       "      <td>13+</td>\n",
       "      <td>110 min</td>\n",
       "      <td>drama, international</td>\n",
       "      <td>a metro family decides to fight a cyber crimin...</td>\n",
       "      <td>110.0</td>\n",
       "      <td>min</td>\n",
       "      <td>93837.477</td>\n",
       "      <td>3.549</td>\n",
       "    </tr>\n",
       "  </tbody>\n",
       "</table>\n",
       "</div>"
      ],
      "text/plain": [
       "   Unnamed: 0 plataform   type                 title      director  \\\n",
       "0           0       as1  movie   the grand seduction  don mckellar   \n",
       "1           1       as2  movie  take care good night  girish joshi   \n",
       "\n",
       "                                               cast country  date_added  year  \\\n",
       "0    brendan gleeson, taylor kitsch, gordon pinsent  canada  2021-03-30  2014   \n",
       "1  mahesh manjrekar, abhay mahajan, sachin khedekar   india  2021-03-30  2018   \n",
       "\n",
       "  rating duration             listed_in  \\\n",
       "0      g  113 min         comedy, drama   \n",
       "1    13+  110 min  drama, international   \n",
       "\n",
       "                                         description  duration_int  \\\n",
       "0  a small fishing village must procure a local d...         113.0   \n",
       "1  a metro family decides to fight a cyber crimin...         110.0   \n",
       "\n",
       "  duration_type     userId  scored  \n",
       "0           min  99178.624   3.467  \n",
       "1           min  93837.477   3.549  "
      ]
     },
     "execution_count": 5,
     "metadata": {},
     "output_type": "execute_result"
    }
   ],
   "source": [
    "# vemos las pimeras filas y columnas del dataset y ver las variables y tipos de datos que lo componen.\n",
    "df_plataforms.head(2)"
   ]
  },
  {
   "cell_type": "code",
   "execution_count": 9,
   "metadata": {},
   "outputs": [
    {
     "name": "stdout",
     "output_type": "stream",
     "text": [
      "<class 'pandas.core.frame.DataFrame'>\n",
      "RangeIndex: 22998 entries, 0 to 22997\n",
      "Data columns (total 17 columns):\n",
      " #   Column         Non-Null Count  Dtype  \n",
      "---  ------         --------------  -----  \n",
      " 0   Unnamed: 0     22998 non-null  int64  \n",
      " 1   plataform      22998 non-null  object \n",
      " 2   type           22998 non-null  object \n",
      " 3   title          22998 non-null  object \n",
      " 4   director       14739 non-null  object \n",
      " 5   cast           17677 non-null  object \n",
      " 6   country        11499 non-null  object \n",
      " 7   date_added     13444 non-null  object \n",
      " 8   year           22998 non-null  int64  \n",
      " 9   rating         22998 non-null  object \n",
      " 10  duration       22998 non-null  object \n",
      " 11  listed_in      22998 non-null  object \n",
      " 12  description    22994 non-null  object \n",
      " 13  duration_int   19925 non-null  float64\n",
      " 14  duration_type  19925 non-null  object \n",
      " 15  userId         22998 non-null  float64\n",
      " 16  scored         22998 non-null  float64\n",
      "dtypes: float64(3), int64(2), object(12)\n",
      "memory usage: 3.0+ MB\n"
     ]
    }
   ],
   "source": [
    "df_plataforms.info()"
   ]
  },
  {
   "cell_type": "code",
   "execution_count": 7,
   "metadata": {},
   "outputs": [
    {
     "data": {
      "text/plain": [
       "Unnamed: 0           0\n",
       "plataform            0\n",
       "type                 0\n",
       "title                0\n",
       "director          8259\n",
       "cast              5321\n",
       "country          11499\n",
       "date_added        9554\n",
       "year                 0\n",
       "rating               0\n",
       "duration             0\n",
       "listed_in            0\n",
       "description          4\n",
       "duration_int      3073\n",
       "duration_type     3073\n",
       "userId               0\n",
       "scored               0\n",
       "dtype: int64"
      ]
     },
     "execution_count": 7,
     "metadata": {},
     "output_type": "execute_result"
    }
   ],
   "source": [
    "# Vemos cuantos Nulos se encuentran en cada columna\n",
    "df_plataforms.isnull().sum()"
   ]
  },
  {
   "cell_type": "code",
   "execution_count": null,
   "metadata": {},
   "outputs": [],
   "source": [
    "#Observamos una cantidad considerable de nulos  y consideramos reemplazarlos por ceros."
   ]
  }
 ],
 "metadata": {
  "kernelspec": {
   "display_name": "env",
   "language": "python",
   "name": "python3"
  },
  "language_info": {
   "codemirror_mode": {
    "name": "ipython",
    "version": 3
   },
   "file_extension": ".py",
   "mimetype": "text/x-python",
   "name": "python",
   "nbconvert_exporter": "python",
   "pygments_lexer": "ipython3",
   "version": "3.11.2"
  },
  "orig_nbformat": 4,
  "vscode": {
   "interpreter": {
    "hash": "33c15c6fdfe5e591ea51d9e4972a09941f1f332b5f32c50d11085ebdb9e5bbd3"
   }
  }
 },
 "nbformat": 4,
 "nbformat_minor": 2
}
